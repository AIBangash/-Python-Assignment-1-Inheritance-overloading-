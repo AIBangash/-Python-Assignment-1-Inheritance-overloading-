{
 "cells": [
  {
   "cell_type": "markdown",
   "id": "116b5343",
   "metadata": {},
   "source": [
    "### PIAIC : Batch 37\n",
    "### Name : Gulshan Ali\n",
    "### Roll No : PIAIC176719\n",
    "\n",
    "\n",
    "# Python Assignment (Inheritance & Overloading)\n",
    "  \n",
    "   ### Task 1: \n",
    "        . Import mother and father attribute\n",
    "        . Add two new attributes in the child constructor"
   ]
  },
  {
   "cell_type": "code",
   "execution_count": 42,
   "id": "c81cd65d",
   "metadata": {},
   "outputs": [
    {
     "name": "stdout",
     "output_type": "stream",
     "text": [
      "Gulshan Ali\n",
      "medium\n",
      "1\n",
      "whitish\n",
      "25\n",
      "M\n"
     ]
    },
    {
     "data": {
      "text/plain": [
       "'Farhan is making PIAIC logo'"
      ]
     },
     "execution_count": 42,
     "metadata": {},
     "output_type": "execute_result"
    }
   ],
   "source": [
    "class Father():     # Father class\n",
    "    def __init__(self):\n",
    "        self.id = None\n",
    "        self.name = None\n",
    "        self.fname = None\n",
    "    \n",
    "    def speak(self, words, language=\"English\"):\n",
    "        return f\"{words}. language = {language}\"\n",
    "    \n",
    "class Mother():         # Mother class\n",
    "    def __init__(self):\n",
    "        self.color = \"whitish\"\n",
    "        self.belt = \"medium\"\n",
    "    \n",
    "    def eat(self,burger):\n",
    "        return f\"{self.name} is eating {burger}\"\n",
    "    \n",
    "class Child(Father,Mother): # Child class\n",
    "    def __init__(self):\n",
    "        super().__init__()   #for calling father & mother attributes\n",
    "        self.age = None     #1st new attribute in the Child constructor\n",
    "        self.gender = None #2nd new attribute in the Child constructor\n",
    "        \n",
    "    def see(self,movie):\n",
    "        return f\"{self.name} is enjoying {movie}\"\n",
    "    \n",
    "    def work(self,logo):\n",
    "        return f\"{self.name} is making PIAIC {logo}\"\n",
    "\n",
    "    \n",
    "f1 = Father()     # creating object of Father class\n",
    "f1.name = \"Gulshan Ali\"\n",
    "print(f1.name)\n",
    "\n",
    "m1 = Mother()     # creating object of Mother class\n",
    "m1.belt = \"medium\"\n",
    "print(m1.belt)\n",
    "\n",
    "\n",
    "c1 = Child()  # creating object of Child class\n",
    "c1.id = 1    # importing father attribute\n",
    "print(c1.id)\n",
    "c1.color = \"whitish\" # importing mother attribute\n",
    "print(c1.color)\n",
    "c1.age = \"25\"\n",
    "print(c1.age)\n",
    "c1.gender = \"M\"\n",
    "print(c1.gender)\n",
    "c1.name = \"Farhan\"\n",
    "c1.work(\"logo\")"
   ]
  },
  {
   "cell_type": "code",
   "execution_count": 41,
   "id": "fcf16100",
   "metadata": {},
   "outputs": [
    {
     "name": "stdout",
     "output_type": "stream",
     "text": [
      "['fname', 'id', 'name', 'speak']\n"
     ]
    }
   ],
   "source": [
    "print([i for i in dir(f1) if \"_\" not in i])"
   ]
  },
  {
   "cell_type": "code",
   "execution_count": 43,
   "id": "f96554a5",
   "metadata": {},
   "outputs": [
    {
     "name": "stdout",
     "output_type": "stream",
     "text": [
      "['belt', 'color', 'eat']\n"
     ]
    }
   ],
   "source": [
    "print([i for i in dir(m1) if \"_\" not in i])"
   ]
  },
  {
   "cell_type": "code",
   "execution_count": 36,
   "id": "55c920b1",
   "metadata": {},
   "outputs": [
    {
     "name": "stdout",
     "output_type": "stream",
     "text": [
      "['age', 'color', 'eat', 'fname', 'gender', 'id', 'name', 'see', 'speak', 'work']\n"
     ]
    }
   ],
   "source": [
    "print([i for i in dir(c1) if \"_\" not in i])"
   ]
  },
  {
   "cell_type": "markdown",
   "id": "fbe4bd7a",
   "metadata": {},
   "source": [
    "### Task 2:\n",
    "        .Create operator overloading"
   ]
  },
  {
   "cell_type": "code",
   "execution_count": 34,
   "id": "062812da",
   "metadata": {},
   "outputs": [
    {
     "name": "stdout",
     "output_type": "stream",
     "text": [
      "7\n"
     ]
    }
   ],
   "source": [
    "## Example 1\n",
    "\n",
    "class Sum():\n",
    "    def __init__(self, x):\n",
    "        self.x = x\n",
    "        \n",
    "    def __add__(self, y):\n",
    "        return self.x + y.x\n",
    "    \n",
    "y1 = Sum(4)\n",
    "y2 = Sum(3)\n",
    "print(y1+y2)"
   ]
  },
  {
   "cell_type": "code",
   "execution_count": 43,
   "id": "f0737e94",
   "metadata": {},
   "outputs": [
    {
     "name": "stdout",
     "output_type": "stream",
     "text": [
      "(16,10,11)\n"
     ]
    }
   ],
   "source": [
    "## Example 2\n",
    "\n",
    "class Sum:\n",
    "    def __init__(self, x=0, y=0, z=0):\n",
    "        self.x = x\n",
    "        self.y = y\n",
    "        self.z = z\n",
    "\n",
    "    def __str__(self):\n",
    "        return '({0},{1},{2})'.format(self.x, self.y, self.z)\n",
    "\n",
    "    def __add__(self, other):\n",
    "        x = self.x + other.x\n",
    "        y = self.y + other.y\n",
    "        z = self.z + other.z\n",
    "        return Sum(x, y, z)\n",
    "\n",
    "\n",
    "s1 = Sum(7, 6, 4)\n",
    "s2 = Sum(8, 2, 3)\n",
    "s3 = Sum(1, 2, 4)\n",
    "print(s1+s2+s3)\n"
   ]
  }
 ],
 "metadata": {
  "kernelspec": {
   "display_name": "Python 3 (ipykernel)",
   "language": "python",
   "name": "python3"
  },
  "language_info": {
   "codemirror_mode": {
    "name": "ipython",
    "version": 3
   },
   "file_extension": ".py",
   "mimetype": "text/x-python",
   "name": "python",
   "nbconvert_exporter": "python",
   "pygments_lexer": "ipython3",
   "version": "3.9.7"
  }
 },
 "nbformat": 4,
 "nbformat_minor": 5
}
